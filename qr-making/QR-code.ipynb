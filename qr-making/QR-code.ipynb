{
 "cells": [
  {
   "cell_type": "code",
   "execution_count": 5,
   "metadata": {},
   "outputs": [],
   "source": [
    "import pyqrcode\n",
    "import qrcode\n",
    "import png\n",
    "\n",
    "link = \"https://www.instagram.com/shyabida/\"\n",
    "qr_code = pyqrcode.create(link)\n",
    "qr_code.png(\"instagram.png\", scale = 5)"
   ]
  },
  {
   "cell_type": "code",
   "execution_count": 8,
   "metadata": {},
   "outputs": [],
   "source": [
    "text = \"HBD Tegar berbih\"\n",
    "qr_img = qrcode.make(text)\n",
    "qr_img.save(\"Kepo.png\", scale = 5)"
   ]
  },
  {
   "cell_type": "code",
   "execution_count": 12,
   "metadata": {},
   "outputs": [],
   "source": [
    "text1 = \"HALO RERE SEMANGAT INTERNNYA\"\n",
    "qr_r = qrcode.make(text1)\n",
    "qr_r.save('halo_rere.png', scale = 10)"
   ]
  },
  {
   "cell_type": "code",
   "execution_count": null,
   "metadata": {},
   "outputs": [],
   "source": []
  }
 ],
 "metadata": {
  "kernelspec": {
   "display_name": "Python 3",
   "language": "python",
   "name": "python3"
  },
  "language_info": {
   "codemirror_mode": {
    "name": "ipython",
    "version": 3
   },
   "file_extension": ".py",
   "mimetype": "text/x-python",
   "name": "python",
   "nbconvert_exporter": "python",
   "pygments_lexer": "ipython3",
   "version": "3.11.2"
  },
  "orig_nbformat": 4
 },
 "nbformat": 4,
 "nbformat_minor": 2
}
