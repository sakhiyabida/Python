{
 "cells": [
  {
   "cell_type": "code",
   "execution_count": 20,
   "metadata": {},
   "outputs": [
    {
     "name": "stdout",
     "output_type": "stream",
     "text": [
      "   -----\n",
      "   -----\n",
      "   |\n",
      "   |\n",
      "   |\n",
      "   |\n"
     ]
    }
   ],
   "source": [
    "f = open('coba.txt')    # baca file\n",
    "pos = 3                 # definisikan parameter pos (melacak posisi saat mencetak karakter)\n",
    "nextL = f.readline()    # read the first line in txt\n",
    "while nextL != \"\":      # looping the program until it gets false\n",
    "    d = nextL[:-1]      # menghapus newline dari setiap baris yang telah dibaca dan disimpan di variabel d\n",
    "    v = int(f.readline())   # read the second row (must be numeric) and convert it to the integer\n",
    "    \n",
    "    # menambahkan garis | sebanyak 'v' kali setiap menemukan 'x' dengan spasi sebanyak pos \n",
    "    if d == 'x':\n",
    "        for i in range(v):\n",
    "            for j in range(pos):\n",
    "                print(\" \", end = \"\")\n",
    "            print(\"|\")\n",
    "    \n",
    "    # menambahkan (-) tanpa spasi sebanyak v setiap menemukan 'y'\n",
    "    if d == 'y':\n",
    "        for i in range(pos):\n",
    "            print(\" \", end = \"\")\n",
    "        for i in range(v):\n",
    "            print(\"-\", end = \"\")\n",
    "        print()\n",
    "        # menambahkan nilai pos dengan v\n",
    "        pos = pos + v\n",
    "    \n",
    "    # menambahkan (-) tanpa spasi dengan panjang sebanyak v kali setiap menemukan z\n",
    "    if d == 'z':\n",
    "        for i in range(pos - v):\n",
    "            print(\" \", end = \"\")\n",
    "        for i in range(v):\n",
    "            print(\"-\", end = \"\")\n",
    "        print()\n",
    "        # mengurangi pos dengan v\n",
    "        pos = pos - v\n",
    "    nextL = f.readline()"
   ]
  },
  {
   "cell_type": "code",
   "execution_count": null,
   "metadata": {},
   "outputs": [],
   "source": []
  },
  {
   "cell_type": "code",
   "execution_count": null,
   "metadata": {},
   "outputs": [],
   "source": []
  }
 ],
 "metadata": {
  "kernelspec": {
   "display_name": "Python 3",
   "language": "python",
   "name": "python3"
  },
  "language_info": {
   "codemirror_mode": {
    "name": "ipython",
    "version": 3
   },
   "file_extension": ".py",
   "mimetype": "text/x-python",
   "name": "python",
   "nbconvert_exporter": "python",
   "pygments_lexer": "ipython3",
   "version": "3.11.5"
  },
  "orig_nbformat": 4
 },
 "nbformat": 4,
 "nbformat_minor": 2
}
