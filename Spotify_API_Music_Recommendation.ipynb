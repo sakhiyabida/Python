{
  "cells": [
    {
      "cell_type": "code",
      "execution_count": 78,
      "metadata": {
        "id": "dwm8xosOXwZa"
      },
      "outputs": [],
      "source": [
        "import requests\n",
        "import base64"
      ]
    },
    {
      "cell_type": "code",
      "execution_count": 79,
      "metadata": {
        "id": "LGNG4PGtX2eT"
      },
      "outputs": [],
      "source": [
        "'''add id client and client secret\n",
        "(get from settings account in spotify developer dashboard after creating an app) '''\n",
        "\n",
        "client_id = 'ebcd74a7e3cf4c7e85a95e0f1eb2141c'\n",
        "client_secret = 'bbddcf5be9964144a2bb1404a3c14d23'"
      ]
    },
    {
      "cell_type": "markdown",
      "metadata": {
        "id": "sXZRwej3Z8k6"
      },
      "source": [
        "These credentials are obtained when a developer registers their application with Spotify’s developer dashboard. The Client ID identifies the application, while the Client Secret is a confidential key used for authentication."
      ]
    },
    {
      "cell_type": "code",
      "execution_count": 80,
      "metadata": {
        "id": "ca6ooirHYIXN"
      },
      "outputs": [],
      "source": [
        "# Base64 encode client ID and client secret\n",
        "client_credentials = f'{client_id}:{client_secret}'\n",
        "client_credentials_base64 = base64.b64encode(client_credentials.encode())"
      ]
    },
    {
      "cell_type": "markdown",
      "metadata": {
        "id": "_5Mky77vaE29"
      },
      "source": [
        "The client ID and secret are combined in the client_credentials variable, separated by a colon (:). Then, this string is encoded using Base64 encoding to create a secure representation of the credentials. We then proceed to request an access token from the Spotify API."
      ]
    },
    {
      "cell_type": "code",
      "execution_count": 81,
      "metadata": {
        "id": "JTFWJsKWYgwl"
      },
      "outputs": [],
      "source": [
        "# request access token\n",
        "\n",
        "token_url = 'https://accounts.spotify.com/api/token'\n",
        "headers = {\n",
        "    'Authorization' : f'Basic {client_credentials_base64.decode()}'\n",
        "}\n",
        "\n",
        "data = {\n",
        "    'grant_type' : 'client_credentials'\n",
        "}\n",
        "\n",
        "response = requests.post(token_url, data=data, headers=headers)"
      ]
    },
    {
      "cell_type": "markdown",
      "metadata": {
        "id": "8ijoDdTpaPIF"
      },
      "source": [
        "It sends a POST request to the token_url (https://accounts.spotify.com/api/token) with the client credentials in the Authorization header, which is required for client authentication. The grant_type parameter is set to ‘client_credentials’ to indicate that the application is requesting an access token for the client credentials flow."
      ]
    },
    {
      "cell_type": "code",
      "execution_count": 82,
      "metadata": {
        "colab": {
          "base_uri": "https://localhost:8080/"
        },
        "id": "FUKTwxtIZcXx",
        "outputId": "ebeb7069-24bd-40c9-b911-055fe8adf6b6"
      },
      "outputs": [
        {
          "name": "stdout",
          "output_type": "stream",
          "text": [
            "Access token obtained successfully\n"
          ]
        }
      ],
      "source": [
        "# obtain the access token\n",
        "\n",
        "if response.status_code == 200:\n",
        "  access_token = response.json()['access_token']\n",
        "  print('Access token obtained successfully')\n",
        "else:\n",
        "  print('Error obtaining acces token')\n",
        "  exit()"
      ]
    },
    {
      "cell_type": "markdown",
      "metadata": {
        "id": "SFprukLraY4V"
      },
      "source": [
        "With the access token, the application can now make authorized requests to retrieve music data, such as tracks, albums, artists, and user information, which is fundamental for building a music recommendation system using the Spotify API and Python"
      ]
    },
    {
      "cell_type": "code",
      "execution_count": 83,
      "metadata": {
        "id": "653zifUuZ3RV"
      },
      "outputs": [],
      "source": [
        "import pandas as pd\n",
        "import spotipy\n",
        "from spotipy.oauth2 import SpotifyOAuth\n",
        "\n",
        "def get_trending_playlist_data(playlist_id, access_token):\n",
        "    #setup spotipy with the access token\n",
        "    sp = spotipy.Spotify(auth=access_token)\n",
        "\n",
        "    #get the playlist track\n",
        "    playlist_tracks = sp.playlist_tracks(playlist_id, fields='items(track(id, name, artists, album(id, name)))')\n",
        "\n",
        "    #extract relevant information and store in a list of dictionaries\n",
        "    music_data = []\n",
        "    for track_info in playlist_tracks['items']:\n",
        "        track = track_info['track']\n",
        "        track_name = track['name']\n",
        "        artists = ', '.join([artist['name'] for artist in track['artists']])\n",
        "        album_name = track['album']['name']\n",
        "        album_id = track['album']['id']\n",
        "        track_id = track['id']\n",
        "    \n",
        "    #get audio features for track\n",
        "    audio_features = sp.audio_features(track_id)[0] if track_id != 'Not available' else None\n",
        "\n",
        "    #get release date of the album\n",
        "    try:\n",
        "        album_info = sp.album(album_id) if album_id != 'Not available' else None\n",
        "        release_date = album_info['release_date'] if album_info else None\n",
        "    except:\n",
        "        release_date = None\n",
        "    \n",
        "    #get popularity of the track\n",
        "    try:\n",
        "        track_info = sp.track(track_id) if track_id != \"Not available\" else None\n",
        "        popularity = track_info['popularity'] if track_info else None\n",
        "    except:\n",
        "        popularity = None\n",
        "    \n",
        "    #add additional track information to the track data\n",
        "    track_data = {\n",
        "        'Track Name': track_name,\n",
        "        'Artists': artists,\n",
        "        'Album Name' : album_name,\n",
        "        'Album ID': album_id,\n",
        "        'Track ID': track_id,\n",
        "        'Popularity': popularity,\n",
        "        'Release Date': release_date,\n",
        "        'Duration (ms)': audio_features['duration_ms'] if audio_features else None,\n",
        "        'Explicit': track_info.get('explicit', None),\n",
        "        'External URLs' : track_info.get('external_url', {}).get('spotify', None),\n",
        "        'Danceability' : audio_features['danceability'] if audio_features else None,\n",
        "        'Energy': audio_features['energy'] if audio_features else None, \n",
        "        'Key': audio_features['key'] if audio_features else None,\n",
        "        'Loudness': audio_features['loudness'] if audio_features else None,\n",
        "        'Mode': audio_features['mode'] if audio_features else None,\n",
        "        'Speechiness': audio_features['speechiness'] if audio_features else None,\n",
        "        'Acousticness' : audio_features['acousticness'] if audio_features else None,\n",
        "        'Instrumentalness' : audio_features['instrumentalness'] if audio_features else None,\n",
        "        'Liveness': audio_features['liveness'] if audio_features else None,\n",
        "        'Valence': audio_features['valence'] if audio_features else None,\n",
        "        'Tempo': audio_features['tempo'] if audio_features else None\n",
        "    }\n",
        "\n",
        "    music_data.append(track_data)\n",
        "\n",
        "    # create pandas dataframe from the list of dictionary\n",
        "    df = pd.DataFrame(music_data)\n",
        "    return df"
      ]
    },
    {
      "cell_type": "code",
      "execution_count": 84,
      "metadata": {},
      "outputs": [],
      "source": [
        "playlist_id = '37i9dQZF1DX76Wlfdnj7AP'\n",
        "\n",
        "#call function to get the music data from playlist\n",
        "\n",
        "music_df = get_trending_playlist_data(playlist_id, access_token)"
      ]
    },
    {
      "cell_type": "code",
      "execution_count": 85,
      "metadata": {},
      "outputs": [
        {
          "name": "stdout",
          "output_type": "stream",
          "text": [
            "         Track Name               Artists        Album Name  \\\n",
            "0  PLAYA DEL INGLÉS  Quevedo, Myke Towers  PLAYA DEL INGLÉS   \n",
            "\n",
            "                 Album ID                Track ID  Popularity Release Date  \\\n",
            "0  1MgW79L1nRyxWHOCu4nxR9  2t6IxTASaSFkZEt61tQ6W6          75   2022-12-15   \n",
            "\n",
            "   Duration (ms)  Explicit External URLs  ...  Energy  Key  Loudness  Mode  \\\n",
            "0         237525     False          None  ...   0.736    7    -3.254     0   \n",
            "\n",
            "   Speechiness  Acousticness  Instrumentalness  Liveness  Valence    Tempo  \n",
            "0       0.0469        0.0822                 0     0.109    0.656  112.993  \n",
            "\n",
            "[1 rows x 21 columns]\n"
          ]
        }
      ],
      "source": [
        "print(music_df)"
      ]
    },
    {
      "cell_type": "code",
      "execution_count": 86,
      "metadata": {},
      "outputs": [
        {
          "name": "stdout",
          "output_type": "stream",
          "text": [
            "Track Name          0\n",
            "Artists             0\n",
            "Album Name          0\n",
            "Album ID            0\n",
            "Track ID            0\n",
            "Popularity          0\n",
            "Release Date        0\n",
            "Duration (ms)       0\n",
            "Explicit            0\n",
            "External URLs       1\n",
            "Danceability        0\n",
            "Energy              0\n",
            "Key                 0\n",
            "Loudness            0\n",
            "Mode                0\n",
            "Speechiness         0\n",
            "Acousticness        0\n",
            "Instrumentalness    0\n",
            "Liveness            0\n",
            "Valence             0\n",
            "Tempo               0\n",
            "dtype: int64\n"
          ]
        }
      ],
      "source": [
        "print(music_df.isnull().sum())"
      ]
    },
    {
      "cell_type": "code",
      "execution_count": 102,
      "metadata": {},
      "outputs": [],
      "source": [
        "#build the music recommendation system using Python.\n",
        "\n",
        "import pandas as pd\n",
        "import numpy as np\n",
        "from sklearn.model_selection import train_test_split\n",
        "from sklearn.preprocessing import MinMaxScaler\n",
        "from datetime import datetime\n",
        "from sklearn.metrics.pairwise import cosine_similarity\n",
        "\n",
        "data = music_df"
      ]
    },
    {
      "cell_type": "code",
      "execution_count": 88,
      "metadata": {},
      "outputs": [],
      "source": [
        "# function to calculate weighted popularity scores based on release date\n",
        "def calculate_weighted_popularity(release_date):\n",
        "    #convert the release date to datetime object\n",
        "    release_date = datetime.strptime(release_date, '%Y-%m-%d')\n",
        "\n",
        "    #calculate the time span between release date and today's date\n",
        "    time_span = datetime.now() - release_date\n",
        "\n",
        "    #calculate the weighted popularity score based on time span\n",
        "    weight = 1 / (time_span.days + 1)\n",
        "    return weight"
      ]
    },
    {
      "cell_type": "markdown",
      "metadata": {},
      "source": [
        "The above function takes the release date of a music track as input, which is provided in the format ‘YYYY-MM-DD’. It then uses the datetime.strptime function from the Python datetime module to convert the release date string to a datetime object. This conversion allows us to perform arithmetic operations with dates. The function then calculates the time span between the release date of the track and the current date (today’s date) using datetime.now() – release_date. This results in a timedelta object representing the time difference between the two dates."
      ]
    },
    {
      "cell_type": "code",
      "execution_count": 89,
      "metadata": {},
      "outputs": [],
      "source": [
        "# Normalize the music features using Min-Max scaling\n",
        "scaler = MinMaxScaler()\n",
        "\n",
        "music_features = music_df[['Danceability', 'Energy', 'Key', \n",
        "                           'Loudness', 'Mode', 'Speechiness', 'Acousticness',\n",
        "                           'Instrumentalness', 'Liveness', 'Valence', 'Tempo']].values\n",
        "music_features_scaled = scaler.fit_transform(music_features)"
      ]
    },
    {
      "cell_type": "markdown",
      "metadata": {},
      "source": [
        "We will create a hybrid recommendation system for music recommendations. The first approach will be based on recommending music based on music audio features, and the second approach will be based on recommending music based on weighted popularity."
      ]
    },
    {
      "cell_type": "code",
      "execution_count": 90,
      "metadata": {},
      "outputs": [],
      "source": [
        "def content_based_recommendations(input_song_name, num_recommendations=5):\n",
        "    if input_song_name not in music_df['Track Name'].values:\n",
        "        print(f\"'{input_song_name}' not found in the dataset. Please enter a valid song name\")\n",
        "        return\n",
        "    \n",
        "    #get the index of the input song in the music dataframe\n",
        "    input_song_index = music_df[music_df['Track Name'] == input_song_name].index[0]\n",
        "\n",
        "    #calculate the similarity scores based on music features\n",
        "    similarity_scores = cosine_similarity([music_features[input_song_index]], music_features_scaled)\n",
        "\n",
        "    #get the indices of the most similar songs\n",
        "    similar_song_indices = similarity_scores.argsort()[0][::-1][1:num_recommendations + 1]\n",
        "    \n",
        "    # Get the names of the most similar songs based on content-based filtering\n",
        "    content_based_recommendations = music_df.iloc[similar_song_indices][['Track Name', 'Artists', 'Album Name', 'Release Date', 'Popularity']]\n",
        "\n",
        "    return content_based_recommendations\n"
      ]
    },
    {
      "cell_type": "code",
      "execution_count": 91,
      "metadata": {},
      "outputs": [],
      "source": [
        "# a function to get hybrid recommendations based on weighted popularity\n",
        "def hybrid_recommendation(input_song_name, num_recommendations=5, alpha=0.5):\n",
        "    if input_song_name not in music_df[\"Track Name\"].values:\n",
        "        print(f\"'{input_song_name}' not found in the dataset. Please enter a valid song\")\n",
        "        return\n",
        "    \n",
        "    #get content-based recommendation\n",
        "    content_based_recs = content_based_recommendations(input_song_name, num_recommendations)\n",
        "\n",
        "    #get the popularity score of the input song\n",
        "    popularity_score = music_df.loc[music_df['Track Name'] == input_song_name, 'Popularity'].values[0]\n",
        "\n",
        "    #calculate the weighted popularity score\n",
        "    weighted_popularity_score = popularity_score * calculate_weighted_popularity(music_df.loc[music_df['Track Name'] == input_song_name, 'Release Date'].values[0])\n",
        "    \n",
        "    #combine content-based and popularity-based recommendation based on weighted popularity\n",
        "    hybrid_recommendation = content_based_recs\n",
        "    hybrid_recommendation = hybrid_recommendation.append(\n",
        "        {\n",
        "            'Track Name': input_song_name,\n",
        "            'Artists' : music_df.loc[music_df['Track Name'] == input_song_name, 'Artists'].values[0],\n",
        "            'Album Name' : music_df.loc[music_df['Track Name'] == input_song_name, 'Album Name'].values[0],\n",
        "            'Release Date' : music_df.loc[music_df['Track Name'] == input_song_name, 'Release Date'].values[0],\n",
        "            'Popularity': weighted_popularity_score\n",
        "        }, ignore_index = True\n",
        "    )\n",
        "    \n",
        "    #sort the hybrid recommendation based on weighted popularity score\n",
        "    hybrid_recommendation = hybrid_recommendation.sort_values(by='Popularity', ascending=False)\n",
        "\n",
        "    #remove the input song from the recommendation\n",
        "    hybrid_recommendation = hybrid_recommendation[hybrid_recommendation['Track Name'] != input_song_name]\n",
        "\n",
        "    return hybrid_recommendation"
      ]
    },
    {
      "cell_type": "markdown",
      "metadata": {},
      "source": [
        "The hybrid approach aims to provide more personalized and relevant recommendations by considering both the content similarity of songs and their weighted popularity. The function takes input_song_name as the input, representing the name of the song for which recommendations are to be generated. The function first calls the content_based_recommendations function to get content-based recommendations for the input song. The num_recommendations parameter determines the number of content-based recommendations to be retrieved."
      ]
    },
    {
      "cell_type": "code",
      "execution_count": 100,
      "metadata": {},
      "outputs": [
        {
          "name": "stdout",
          "output_type": "stream",
          "text": [
            "'Quevedo' not found in the dataset. Please enter a valid song\n",
            "Hybrid recommended songs for 'Quevedo':\n",
            "None\n"
          ]
        }
      ],
      "source": [
        "#Test\n",
        "\n",
        "input_song_name = \"Quevedo\"\n",
        "recommendation = hybrid_recommendation(input_song_name, num_recommendations=5)\n",
        "print(f\"Hybrid recommended songs for '{input_song_name}':\")\n",
        "print(recommendation)"
      ]
    },
    {
      "cell_type": "code",
      "execution_count": null,
      "metadata": {},
      "outputs": [],
      "source": []
    }
  ],
  "metadata": {
    "colab": {
      "provenance": []
    },
    "kernelspec": {
      "display_name": "Python 3",
      "name": "python3"
    },
    "language_info": {
      "codemirror_mode": {
        "name": "ipython",
        "version": 3
      },
      "file_extension": ".py",
      "mimetype": "text/x-python",
      "name": "python",
      "nbconvert_exporter": "python",
      "pygments_lexer": "ipython3",
      "version": "3.11.2"
    }
  },
  "nbformat": 4,
  "nbformat_minor": 0
}
