{
 "cells": [
  {
   "cell_type": "code",
   "execution_count": 15,
   "metadata": {},
   "outputs": [
    {
     "data": {
      "text/html": [
       "<div>\n",
       "<style scoped>\n",
       "    .dataframe tbody tr th:only-of-type {\n",
       "        vertical-align: middle;\n",
       "    }\n",
       "\n",
       "    .dataframe tbody tr th {\n",
       "        vertical-align: top;\n",
       "    }\n",
       "\n",
       "    .dataframe thead th {\n",
       "        text-align: right;\n",
       "    }\n",
       "</style>\n",
       "<table border=\"1\" class=\"dataframe\">\n",
       "  <thead>\n",
       "    <tr style=\"text-align: right;\">\n",
       "      <th></th>\n",
       "      <th>Chart date[5]</th>\n",
       "      <th>Artist</th>\n",
       "      <th>Peak position</th>\n",
       "      <th>Weeks on chart</th>\n",
       "    </tr>\n",
       "  </thead>\n",
       "  <tbody>\n",
       "    <tr>\n",
       "      <th>0</th>\n",
       "      <td>2015-12-19</td>\n",
       "      <td>Psy</td>\n",
       "      <td>88</td>\n",
       "      <td>1 (R) 2</td>\n",
       "    </tr>\n",
       "    <tr>\n",
       "      <th>1</th>\n",
       "      <td>2016-04-09</td>\n",
       "      <td>Got7[6]</td>\n",
       "      <td>45</td>\n",
       "      <td>1 (R) 8</td>\n",
       "    </tr>\n",
       "    <tr>\n",
       "      <th>2</th>\n",
       "      <td>2016-10-29</td>\n",
       "      <td>BTS[7][8]</td>\n",
       "      <td>1 (Total 21 weeks)[a][9][10][11]</td>\n",
       "      <td>315 (R) 335</td>\n",
       "    </tr>\n",
       "    <tr>\n",
       "      <th>3</th>\n",
       "      <td>2018-02-03</td>\n",
       "      <td>Exo</td>\n",
       "      <td>9</td>\n",
       "      <td>18 (R) 47</td>\n",
       "    </tr>\n",
       "    <tr>\n",
       "      <th>4</th>\n",
       "      <td>2018-03-10</td>\n",
       "      <td>J-Hope[12]</td>\n",
       "      <td>6</td>\n",
       "      <td>2 (R) 9</td>\n",
       "    </tr>\n",
       "  </tbody>\n",
       "</table>\n",
       "</div>"
      ],
      "text/plain": [
       "  Chart date[5]      Artist                     Peak position Weeks on chart\n",
       "0    2015-12-19         Psy                                88        1 (R) 2\n",
       "1    2016-04-09     Got7[6]                                45        1 (R) 8\n",
       "2    2016-10-29   BTS[7][8]  1 (Total 21 weeks)[a][9][10][11]    315 (R) 335\n",
       "3    2018-02-03         Exo                                 9      18 (R) 47\n",
       "4    2018-03-10  J-Hope[12]                                 6        2 (R) 9"
      ]
     },
     "execution_count": 15,
     "metadata": {},
     "output_type": "execute_result"
    }
   ],
   "source": [
    "import urllib.request\n",
    "import pandas as pd\n",
    "url = \"https://en.wikipedia.org/wiki/List_of_K-pop_on_the_Billboard_charts\"\n",
    "\n",
    "with urllib.request.urlopen(url) as i:\n",
    "    html = i.read()\n",
    "\n",
    "weekly_chart = pd.read_html(html)[0]\n",
    "weekly_chart.head()"
   ]
  },
  {
   "cell_type": "code",
   "execution_count": 14,
   "metadata": {},
   "outputs": [
    {
     "data": {
      "text/html": [
       "<div>\n",
       "<style scoped>\n",
       "    .dataframe tbody tr th:only-of-type {\n",
       "        vertical-align: middle;\n",
       "    }\n",
       "\n",
       "    .dataframe tbody tr th {\n",
       "        vertical-align: top;\n",
       "    }\n",
       "\n",
       "    .dataframe thead th {\n",
       "        text-align: right;\n",
       "    }\n",
       "</style>\n",
       "<table border=\"1\" class=\"dataframe\">\n",
       "  <thead>\n",
       "    <tr style=\"text-align: right;\">\n",
       "      <th></th>\n",
       "      <th>Chart Date[15]</th>\n",
       "      <th>Artist</th>\n",
       "      <th>Peak position</th>\n",
       "      <th>Weeks on Chart</th>\n",
       "    </tr>\n",
       "  </thead>\n",
       "  <tbody>\n",
       "    <tr>\n",
       "      <th>0</th>\n",
       "      <td>2020-08-08</td>\n",
       "      <td>Monsta X</td>\n",
       "      <td>21</td>\n",
       "      <td>1</td>\n",
       "    </tr>\n",
       "    <tr>\n",
       "      <th>1</th>\n",
       "      <td>2020-09-12</td>\n",
       "      <td>Seventeen</td>\n",
       "      <td>4</td>\n",
       "      <td>1</td>\n",
       "    </tr>\n",
       "    <tr>\n",
       "      <th>2</th>\n",
       "      <td>2021-05-29</td>\n",
       "      <td>Luna</td>\n",
       "      <td>24</td>\n",
       "      <td>1</td>\n",
       "    </tr>\n",
       "  </tbody>\n",
       "</table>\n",
       "</div>"
      ],
      "text/plain": [
       "  Chart Date[15]     Artist  Peak position  Weeks on Chart\n",
       "0     2020-08-08   Monsta X             21               1\n",
       "1     2020-09-12  Seventeen              4               1\n",
       "2     2021-05-29       Luna             24               1"
      ]
     },
     "execution_count": 14,
     "metadata": {},
     "output_type": "execute_result"
    }
   ],
   "source": [
    "kpop_billboard = pd.read_html(html)[1]\n",
    "\n",
    "kpop_billboard.head()"
   ]
  },
  {
   "cell_type": "code",
   "execution_count": 16,
   "metadata": {},
   "outputs": [
    {
     "data": {
      "text/html": [
       "<div>\n",
       "<style scoped>\n",
       "    .dataframe tbody tr th:only-of-type {\n",
       "        vertical-align: middle;\n",
       "    }\n",
       "\n",
       "    .dataframe tbody tr th {\n",
       "        vertical-align: top;\n",
       "    }\n",
       "\n",
       "    .dataframe thead th {\n",
       "        text-align: right;\n",
       "    }\n",
       "</style>\n",
       "<table border=\"1\" class=\"dataframe\">\n",
       "  <thead>\n",
       "    <tr style=\"text-align: right;\">\n",
       "      <th></th>\n",
       "      <th>Chart date[18]</th>\n",
       "      <th>Artist</th>\n",
       "      <th>Song/album title</th>\n",
       "      <th>Peak position</th>\n",
       "      <th>Weeks on chart</th>\n",
       "    </tr>\n",
       "  </thead>\n",
       "  <tbody>\n",
       "    <tr>\n",
       "      <th>0</th>\n",
       "      <td>2014-09-20</td>\n",
       "      <td>Infinite[19][20]</td>\n",
       "      <td>\"Last Romeo\"</td>\n",
       "      <td>1[j]</td>\n",
       "      <td>1</td>\n",
       "    </tr>\n",
       "    <tr>\n",
       "      <th>1</th>\n",
       "      <td>2016-04-02</td>\n",
       "      <td>Fiestar</td>\n",
       "      <td>\"Mirror\"</td>\n",
       "      <td>2</td>\n",
       "      <td>4 (R) 5</td>\n",
       "    </tr>\n",
       "    <tr>\n",
       "      <th>2</th>\n",
       "      <td>2016-06-25</td>\n",
       "      <td>Fiestar</td>\n",
       "      <td>\"Apple Pie\"</td>\n",
       "      <td>5</td>\n",
       "      <td>5</td>\n",
       "    </tr>\n",
       "    <tr>\n",
       "      <th>3</th>\n",
       "      <td>2016-08-27</td>\n",
       "      <td>Wonder Girls</td>\n",
       "      <td>\"I Feel You\"</td>\n",
       "      <td>41</td>\n",
       "      <td>1</td>\n",
       "    </tr>\n",
       "    <tr>\n",
       "      <th>4</th>\n",
       "      <td>2016-09-03</td>\n",
       "      <td>Infinite</td>\n",
       "      <td>\"Bad\"</td>\n",
       "      <td>31</td>\n",
       "      <td>1</td>\n",
       "    </tr>\n",
       "  </tbody>\n",
       "</table>\n",
       "</div>"
      ],
      "text/plain": [
       "  Chart date[18]            Artist Song/album title Peak position  \\\n",
       "0     2014-09-20  Infinite[19][20]     \"Last Romeo\"          1[j]   \n",
       "1     2016-04-02           Fiestar         \"Mirror\"             2   \n",
       "2     2016-06-25           Fiestar      \"Apple Pie\"             5   \n",
       "3     2016-08-27      Wonder Girls     \"I Feel You\"            41   \n",
       "4     2016-09-03          Infinite            \"Bad\"            31   \n",
       "\n",
       "  Weeks on chart  \n",
       "0              1  \n",
       "1        4 (R) 5  \n",
       "2              5  \n",
       "3              1  \n",
       "4              1  "
      ]
     },
     "execution_count": 16,
     "metadata": {},
     "output_type": "execute_result"
    }
   ],
   "source": [
    "kpop_billboard_rising_twitter = pd.read_html(html)[2]\n",
    "kpop_billboard_rising_twitter.head()"
   ]
  },
  {
   "cell_type": "markdown",
   "metadata": {},
   "source": [
    "### Convert the result to CSV"
   ]
  },
  {
   "cell_type": "code",
   "execution_count": 17,
   "metadata": {},
   "outputs": [],
   "source": [
    "kpop_billboard.to_csv('Kpop_Wikipedia.csv')"
   ]
  },
  {
   "cell_type": "code",
   "execution_count": null,
   "metadata": {},
   "outputs": [],
   "source": []
  }
 ],
 "metadata": {
  "kernelspec": {
   "display_name": "Python 3",
   "language": "python",
   "name": "python3"
  },
  "language_info": {
   "codemirror_mode": {
    "name": "ipython",
    "version": 3
   },
   "file_extension": ".py",
   "mimetype": "text/x-python",
   "name": "python",
   "nbconvert_exporter": "python",
   "pygments_lexer": "ipython3",
   "version": "3.11.2"
  },
  "orig_nbformat": 4
 },
 "nbformat": 4,
 "nbformat_minor": 2
}
